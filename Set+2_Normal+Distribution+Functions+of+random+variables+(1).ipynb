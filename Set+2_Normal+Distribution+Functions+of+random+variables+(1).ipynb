{
 "cells": [
  {
   "cell_type": "code",
   "execution_count": 2,
   "id": "e9d78110",
   "metadata": {},
   "outputs": [],
   "source": [
    "import pandas as pd\n",
    "import numpy as np\n",
    "from scipy import stats\n"
   ]
  },
  {
   "cell_type": "markdown",
   "id": "ad40def0",
   "metadata": {},
   "source": [
    "# 1)"
   ]
  },
  {
   "cell_type": "code",
   "execution_count": 4,
   "id": "912e7a1d",
   "metadata": {},
   "outputs": [
    {
     "data": {
      "text/plain": [
       "0.26598552904870054"
      ]
     },
     "execution_count": 4,
     "metadata": {},
     "output_type": "execute_result"
    }
   ],
   "source": [
    "1-stats.norm.cdf(60,55,8)"
   ]
  },
  {
   "cell_type": "markdown",
   "id": "e6794aa8",
   "metadata": {},
   "source": [
    "# 5)"
   ]
  },
  {
   "cell_type": "code",
   "execution_count": 18,
   "id": "c0643a2c",
   "metadata": {},
   "outputs": [
    {
     "data": {
      "text/plain": [
       "540"
      ]
     },
     "execution_count": 18,
     "metadata": {},
     "output_type": "execute_result"
    }
   ],
   "source": [
    "#A)Specify a Rupee range (centered on the mean) such that it contains 95% probability for the annual profit of the company.\n",
    "mean= 5+7\n",
    "mu=mean*45 # converting in rupees\n",
    "mu"
   ]
  },
  {
   "cell_type": "code",
   "execution_count": 24,
   "id": "56c9156d",
   "metadata": {},
   "outputs": [
    {
     "data": {
      "text/plain": [
       "225.0"
      ]
     },
     "execution_count": 24,
     "metadata": {},
     "output_type": "execute_result"
    }
   ],
   "source": [
    "import math\n",
    "var= 9+16\n",
    "std=math.sqrt(var)\n",
    "sd=std*45 # converting in rupees\n",
    "sd"
   ]
  },
  {
   "cell_type": "code",
   "execution_count": 27,
   "id": "b75e3dc9",
   "metadata": {},
   "outputs": [
    {
     "name": "stdout",
     "output_type": "stream",
     "text": [
      "Range is Rs (99.00810347848784, 980.9918965215122) in Millions\n"
     ]
    }
   ],
   "source": [
    "#finding the range with probability 0.95\n",
    "ra=stats.norm.interval(0.95,mu,sd)\n",
    "print('Range is Rs',ra,'in Millions')"
   ]
  },
  {
   "cell_type": "code",
   "execution_count": 31,
   "id": "b02bffd4",
   "metadata": {},
   "outputs": [
    {
     "name": "stdout",
     "output_type": "stream",
     "text": [
      "5th percentile of profit (in millions Rupees) 169.875\n"
     ]
    }
   ],
   "source": [
    "# B. Specify the 5th percentile of profit (in Rupees) for the company\n",
    "x=mu+(-1.645)*(sd)\n",
    "print('5th percentile of profit (in millions Rupees)', x)"
   ]
  },
  {
   "cell_type": "code",
   "execution_count": 32,
   "id": "d006b8bc",
   "metadata": {},
   "outputs": [
    {
     "data": {
      "text/plain": [
       "0.0477903522728147"
      ]
     },
     "execution_count": 32,
     "metadata": {},
     "output_type": "execute_result"
    }
   ],
   "source": [
    "# C. Which of the two divisions has a larger probability of making a loss in a given year?\n",
    "stats.norm.cdf(0,5,3) # probability of division 1 making a loss p(x<0)\n"
   ]
  },
  {
   "cell_type": "code",
   "execution_count": 33,
   "id": "8a918b60",
   "metadata": {},
   "outputs": [
    {
     "data": {
      "text/plain": [
       "0.040059156863817086"
      ]
     },
     "execution_count": 33,
     "metadata": {},
     "output_type": "execute_result"
    }
   ],
   "source": [
    "stats.norm.cdf(0,7,4) # probability of division 2 making a loss P(x<0)\n"
   ]
  },
  {
   "cell_type": "code",
   "execution_count": null,
   "id": "f123e55b",
   "metadata": {},
   "outputs": [],
   "source": []
  }
 ],
 "metadata": {
  "kernelspec": {
   "display_name": "Python 3 (ipykernel)",
   "language": "python",
   "name": "python3"
  },
  "language_info": {
   "codemirror_mode": {
    "name": "ipython",
    "version": 3
   },
   "file_extension": ".py",
   "mimetype": "text/x-python",
   "name": "python",
   "nbconvert_exporter": "python",
   "pygments_lexer": "ipython3",
   "version": "3.9.12"
  }
 },
 "nbformat": 4,
 "nbformat_minor": 5
}
